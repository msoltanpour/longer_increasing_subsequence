{
  "nbformat": 4,
  "nbformat_minor": 0,
  "metadata": {
    "colab": {
      "provenance": [],
      "authorship_tag": "ABX9TyPLZ8n9m4cwPuBHMI7vkCRl",
      "include_colab_link": true
    },
    "kernelspec": {
      "name": "python3",
      "display_name": "Python 3"
    },
    "language_info": {
      "name": "python"
    }
  },
  "cells": [
    {
      "cell_type": "markdown",
      "metadata": {
        "id": "view-in-github",
        "colab_type": "text"
      },
      "source": [
        "<a href=\"https://colab.research.google.com/github/msoltanpour/longer_increasing_subsequence/blob/main/Untitled15.ipynb\" target=\"_parent\"><img src=\"https://colab.research.google.com/assets/colab-badge.svg\" alt=\"Open In Colab\"/></a>"
      ]
    },
    {
      "cell_type": "code",
      "execution_count": 35,
      "metadata": {
        "id": "TFRDTCbv6KZr"
      },
      "outputs": [],
      "source": [
        "nums = [10, 9, 2, 5, 3, 3, 7, 101, 18]"
      ]
    },
    {
      "cell_type": "code",
      "source": [
        "def longer_increasing_subsequence(nums):\n",
        "\n",
        "  subList = []\n",
        "  c = 0\n",
        "\n",
        "  for i in range(len(nums)):\n",
        "    for j in nums[i+1:]:\n",
        "      if j <= nums[i]:\n",
        "        c = c+1\n",
        "\n",
        "        #print(i,nums[i],c )\n",
        "        break\n",
        "\n",
        "  return len(nums) - c\n",
        "\n"
      ],
      "metadata": {
        "id": "fUE-QWUq6Skp"
      },
      "execution_count": 38,
      "outputs": []
    },
    {
      "cell_type": "code",
      "source": [
        "print(longer_increasing_subsequence(nums))"
      ],
      "metadata": {
        "colab": {
          "base_uri": "https://localhost:8080/"
        },
        "id": "pY-1VI9W6bgm",
        "outputId": "f8bcb853-b319-46df-d812-38ce57e6227a"
      },
      "execution_count": 39,
      "outputs": [
        {
          "output_type": "stream",
          "name": "stdout",
          "text": [
            "4\n"
          ]
        }
      ]
    },
    {
      "cell_type": "code",
      "source": [],
      "metadata": {
        "id": "WNb_xl2R784L"
      },
      "execution_count": null,
      "outputs": []
    }
  ]
}